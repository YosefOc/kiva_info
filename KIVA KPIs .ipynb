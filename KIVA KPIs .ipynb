{
 "cells": [
  {
   "cell_type": "markdown",
   "metadata": {},
   "source": [
    "# Project objective: Find the name and KPI(status, rating, deliquency rate, default rate, etc) of 455 field partners "
   ]
  },
  {
   "cell_type": "code",
   "execution_count": 13,
   "metadata": {
    "collapsed": true
   },
   "outputs": [],
   "source": [
    "# we have a web page that lists all them in the Kiva website \n",
    "# and I would like to use BeautifulSoup to get that and create dataframe"
   ]
  },
  {
   "cell_type": "code",
   "execution_count": 14,
   "metadata": {
    "collapsed": true
   },
   "outputs": [],
   "source": [
    "#let's import the packages and library we will need... \n",
    "from bs4 import BeautifulSoup\n",
    "import requests\n",
    "import pandas as pd "
   ]
  },
  {
   "cell_type": "code",
   "execution_count": 15,
   "metadata": {
    "collapsed": true
   },
   "outputs": [],
   "source": [
    "#what is the url that have that information?\n",
    "url = \"https://www.kiva.org/about/where-kiva-works?region_filter=All&stage_filter=All&show_closed_partners=show_closed_partners&sort_by=timeOnKiva\""
   ]
  },
  {
   "cell_type": "code",
   "execution_count": 16,
   "metadata": {
    "collapsed": false
   },
   "outputs": [],
   "source": [
    "# let's process that information in BeautifulSoup we will use 'lxml' for parsing\n",
    "r = requests.get(url)\n",
    "soup = BeautifulSoup(r.text, 'lxml')"
   ]
  },
  {
   "cell_type": "markdown",
   "metadata": {},
   "source": [
    "---"
   ]
  },
  {
   "cell_type": "markdown",
   "metadata": {},
   "source": [
    "# ----------------------------Find all the Tags in html document "
   ]
  },
  {
   "cell_type": "code",
   "execution_count": 17,
   "metadata": {
    "collapsed": false,
    "scrolled": true
   },
   "outputs": [
    {
     "name": "stdout",
     "output_type": "stream",
     "text": [
      "['br', 'title', 'use', 'label', 'h3', 'li', 'img', 'link', 'thead', 'ul', 'head', 'meta', 'td', 'h1', 'tr', 'form', 'option', 'div', 'nav', 'tbody', 'p', 'header', 'th', 'script', 'span', 'article', 'svg', 'input', 'footer', 'select', 'html', 'body', 'a', 'table', 'iframe', 'noscript']\n"
     ]
    }
   ],
   "source": [
    "#let's just get an idea of how many tags we have since that is how are going to get information. \n",
    "tag_list = []\n",
    "for tag in soup.find_all(True):\n",
    "    tag_list.append(tag.name)\n",
    "def remove_duplicate(tag_list):\n",
    "    return list(set(tag_list))\n",
    "new_tag_list = remove_duplicate(tag_list)\n",
    "print(new_tag_list)"
   ]
  },
  {
   "cell_type": "code",
   "execution_count": 45,
   "metadata": {
    "collapsed": false
   },
   "outputs": [],
   "source": [
    "#let's find the fieldpartners and their KPI \n",
    "fieldpartners = []\n",
    "for tag in soup.find_all('h1'):\n",
    "    fieldpartners.append(tag.text)\n"
   ]
  },
  {
   "cell_type": "code",
   "execution_count": 20,
   "metadata": {
    "collapsed": false
   },
   "outputs": [
    {
     "data": {
      "text/plain": [
       "461"
      ]
     },
     "execution_count": 20,
     "metadata": {},
     "output_type": "execute_result"
    }
   ],
   "source": [
    "len(fieldpartners)"
   ]
  },
  {
   "cell_type": "code",
   "execution_count": 44,
   "metadata": {
    "collapsed": false
   },
   "outputs": [],
   "source": [
    "#table = soup.find('table', class_='partnerListingTable')\n",
    "#links = [link['href'] for link in table.select('h1 a')]  #a list comprehension \n",
    "      \n"
   ]
  },
  {
   "cell_type": "code",
   "execution_count": 22,
   "metadata": {
    "collapsed": false
   },
   "outputs": [
    {
     "data": {
      "text/plain": [
       "455"
      ]
     },
     "execution_count": 22,
     "metadata": {},
     "output_type": "execute_result"
    }
   ],
   "source": [
    "# How many links will I be looking at... \n",
    "len(links)"
   ]
  },
  {
   "cell_type": "markdown",
   "metadata": {
    "collapsed": true
   },
   "source": [
    "# Getting the links for Field Partners "
   ]
  },
  {
   "cell_type": "code",
   "execution_count": 42,
   "metadata": {
    "collapsed": true
   },
   "outputs": [],
   "source": [
    "#This part of the code we get all links for each Field Partner \n",
    "# there are 455 field partners\n",
    "\n",
    "link_partner=[]\n",
    "for partner in soup.find_all('h1'):\n",
    "    link_partner.append(partner.contents)\n"
   ]
  },
  {
   "cell_type": "code",
   "execution_count": null,
   "metadata": {
    "collapsed": false
   },
   "outputs": [],
   "source": []
  },
  {
   "cell_type": "markdown",
   "metadata": {
    "collapsed": true
   },
   "source": [
    "---"
   ]
  },
  {
   "cell_type": "markdown",
   "metadata": {},
   "source": [
    "# Kiva KPI for Partner \n",
    "#Field Partner\n",
    "#Field Partner Risk Rating\n",
    "#Time on Kiva\n",
    "#Kiva Borrowers\n",
    "#Total Loans\n",
    "#Average Loan Size(% of Per Capita Income)\n",
    "#Delinquency Rate\n",
    "#Default Rate\n",
    "#Exchange Loss Rate\n",
    "#Start Date On Kiva\n",
    "#Total Loans\n",
    "#Amount of raised Inactive loans\n",
    "#Number of raised Inactive loans\n",
    "#Amount of Paying Back Loans\n",
    "#Number of Paying Back Loans\n",
    "#Amount of Ended Loans\n",
    "#Number of Ended Loans\n",
    "#Delinquency Rate\n",
    "#Amount in Arrears\n",
    "#Outstanding Portfolio\n",
    "#Number of Loans Delinquent\n",
    "#Default Rate\n",
    "#Amount of Ended Loans Defaulted\n",
    "#Number of Ended Loans Defaulted\n",
    "#Currency Exchange Loss Rate\n",
    "#Amount of Currency Exchange Loss\n",
    "#Refund Rate\n",
    "#Amount of Refunded Loans\n",
    "#Number of Refunded Loans\n",
    "#Loans to Women Borrowers\n",
    "#Average Loan Size\n",
    "#Average Individual Loan Size\n",
    "#Average Group Loan Size \n",
    "#Average number of borrowers per group\n",
    "#Average GDP per capita (PPP) in local country\n",
    "#Average Loan Size / GDP per capita (PPP)\n",
    "#Average Time to Fund a Loan\n",
    "#Average Dollars Raised Per Day Per Loan\n",
    "#Average Loan Term\n",
    "#Total Journals\n",
    "#Journaling Rate\n",
    "#Average Number of Comments Per Journal\n",
    "#Average Number of Recommendations Per Journal\n"
   ]
  },
  {
   "cell_type": "code",
   "execution_count": 41,
   "metadata": {
    "collapsed": false
   },
   "outputs": [
    {
     "name": "stdout",
     "output_type": "stream",
     "text": [
      "East Africa Beta \n",
      "Closed\n",
      " 55 $26,600\n"
     ]
    }
   ],
   "source": [
    "# this is test for what I want to get from each Field Partners \n",
    "title = soup.select('.hPage')[0].text\n",
    "countries = soup.select('.pageSubHeader')[0].text.split(': ')[1].split(', ')\n",
    "status = soup.select('.partnerRating')[0].text # class \n",
    "\n",
    "Kiva_Borrowers = get_info(soup,'Kiva Borrowers:')\n",
    "Total_Loans = get_info(soup,'Total Loans:')\n",
    "Status= get_info(soup, 'Field Partner Risk Rating')\n",
    "def get_info(soup, query):\n",
    "    info= soup.select('.info dl')[0]\n",
    "    field_index=[index for index, title in enumerate(info.select('dt a')) if title.text == query][0]  # index and title \n",
    "    return soup.select('.info dd')[field_index].text\n",
    "get_info(soup,'Kiva Borrowers:')\n",
    "print(title, Status, Kiva_Borrowers, Total_Loans)\n",
    "\n"
   ]
  },
  {
   "cell_type": "code",
   "execution_count": null,
   "metadata": {
    "collapsed": true
   },
   "outputs": [],
   "source": []
  },
  {
   "cell_type": "code",
   "execution_count": null,
   "metadata": {
    "collapsed": true
   },
   "outputs": [],
   "source": []
  }
 ],
 "metadata": {
  "kernelspec": {
   "display_name": "Python 3",
   "language": "python",
   "name": "python3"
  },
  "language_info": {
   "codemirror_mode": {
    "name": "ipython",
    "version": 3
   },
   "file_extension": ".py",
   "mimetype": "text/x-python",
   "name": "python",
   "nbconvert_exporter": "python",
   "pygments_lexer": "ipython3",
   "version": "3.6.0"
  }
 },
 "nbformat": 4,
 "nbformat_minor": 2
}
